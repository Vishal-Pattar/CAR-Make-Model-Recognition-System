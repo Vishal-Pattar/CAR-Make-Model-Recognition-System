{
 "cells": [
  {
   "cell_type": "code",
   "execution_count": 1,
   "metadata": {},
   "outputs": [],
   "source": [
    "import tensorflow as tf\n",
    "from keras import layers, models\n",
    "from keras.preprocessing.image import ImageDataGenerator"
   ]
  },
  {
   "cell_type": "code",
   "execution_count": 2,
   "metadata": {},
   "outputs": [],
   "source": [
    "train_dir = './preprocessed_dataset/train'"
   ]
  },
  {
   "cell_type": "code",
   "execution_count": 3,
   "metadata": {},
   "outputs": [],
   "source": [
    "height = 32\n",
    "width = 32\n",
    "batch_size = 32"
   ]
  },
  {
   "cell_type": "code",
   "execution_count": 4,
   "metadata": {},
   "outputs": [],
   "source": [
    "train_datagen = ImageDataGenerator(rescale=1./255)"
   ]
  },
  {
   "cell_type": "code",
   "execution_count": 5,
   "metadata": {},
   "outputs": [
    {
     "name": "stdout",
     "output_type": "stream",
     "text": [
      "Found 8144 images belonging to 196 classes.\n"
     ]
    }
   ],
   "source": [
    "train_generator = train_datagen.flow_from_directory(\n",
    "        train_dir,\n",
    "        target_size=(width, height),\n",
    "        batch_size=batch_size,\n",
    "        class_mode='categorical')"
   ]
  },
  {
   "cell_type": "code",
   "execution_count": 6,
   "metadata": {},
   "outputs": [],
   "source": [
    "model = models.Sequential([\n",
    "    layers.Conv2D(32, (3, 3), activation='relu', input_shape=(width, height, 3)),\n",
    "    layers.MaxPooling2D((2, 2)),\n",
    "    layers.Conv2D(64, (3, 3), activation='relu'),\n",
    "    layers.MaxPooling2D((2, 2)),\n",
    "    layers.Conv2D(64, (3, 3), activation='relu'),\n",
    "    layers.Flatten(),\n",
    "    layers.Dense(256, activation='relu'),\n",
    "    layers.Dense(196, activation='softmax')\n",
    "])"
   ]
  },
  {
   "cell_type": "code",
   "execution_count": 7,
   "metadata": {},
   "outputs": [],
   "source": [
    "model.compile(optimizer='adam',\n",
    "              loss='categorical_crossentropy',\n",
    "              metrics=['accuracy'])"
   ]
  },
  {
   "cell_type": "code",
   "execution_count": 8,
   "metadata": {},
   "outputs": [
    {
     "name": "stdout",
     "output_type": "stream",
     "text": [
      "Epoch 1/10\n",
      "254/254 [==============================] - 14s 52ms/step - loss: 5.2258 - accuracy: 0.0074\n",
      "Epoch 2/10\n",
      "254/254 [==============================] - 14s 55ms/step - loss: 5.1275 - accuracy: 0.0146\n",
      "Epoch 3/10\n",
      "254/254 [==============================] - 18s 71ms/step - loss: 5.0427 - accuracy: 0.0230\n",
      "Epoch 4/10\n",
      "254/254 [==============================] - 18s 69ms/step - loss: 4.8563 - accuracy: 0.0366\n",
      "Epoch 5/10\n",
      "254/254 [==============================] - 15s 61ms/step - loss: 4.5941 - accuracy: 0.0639\n",
      "Epoch 6/10\n",
      "254/254 [==============================] - 13s 53ms/step - loss: 4.2442 - accuracy: 0.0941\n",
      "Epoch 7/10\n",
      "254/254 [==============================] - 13s 51ms/step - loss: 3.8874 - accuracy: 0.1437\n",
      "Epoch 8/10\n",
      "254/254 [==============================] - 13s 50ms/step - loss: 3.4620 - accuracy: 0.2114\n",
      "Epoch 9/10\n",
      "254/254 [==============================] - 13s 51ms/step - loss: 3.0223 - accuracy: 0.2803\n",
      "Epoch 10/10\n",
      "254/254 [==============================] - 13s 50ms/step - loss: 2.5427 - accuracy: 0.3716\n"
     ]
    }
   ],
   "source": [
    "\n",
    "history = model.fit(\n",
    "      train_generator,\n",
    "      steps_per_epoch=train_generator.samples/train_generator.batch_size,\n",
    "      epochs=10)"
   ]
  },
  {
   "cell_type": "code",
   "execution_count": 10,
   "metadata": {},
   "outputs": [],
   "source": [
    "model.save('trained_model.keras')"
   ]
  }
 ],
 "metadata": {
  "kernelspec": {
   "display_name": "Python 3",
   "language": "python",
   "name": "python3"
  },
  "language_info": {
   "codemirror_mode": {
    "name": "ipython",
    "version": 3
   },
   "file_extension": ".py",
   "mimetype": "text/x-python",
   "name": "python",
   "nbconvert_exporter": "python",
   "pygments_lexer": "ipython3",
   "version": "3.11.5"
  }
 },
 "nbformat": 4,
 "nbformat_minor": 2
}
