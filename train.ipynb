{
 "cells": [
  {
   "cell_type": "code",
   "execution_count": 1,
   "metadata": {},
   "outputs": [],
   "source": [
    "import tensorflow as tf\n",
    "from keras import layers, models\n",
    "from keras.preprocessing.image import ImageDataGenerator"
   ]
  },
  {
   "cell_type": "code",
   "execution_count": 2,
   "metadata": {},
   "outputs": [],
   "source": [
    "train_dir = './preprocessed_dataset/train'"
   ]
  },
  {
   "cell_type": "code",
   "execution_count": 3,
   "metadata": {},
   "outputs": [],
   "source": [
    "height = 32\n",
    "width = 32\n",
    "batch_size = 32\n",
    "epochs = 48"
   ]
  },
  {
   "cell_type": "code",
   "execution_count": 4,
   "metadata": {},
   "outputs": [],
   "source": [
    "train_datagen = ImageDataGenerator(rescale=1./255)"
   ]
  },
  {
   "cell_type": "code",
   "execution_count": 5,
   "metadata": {},
   "outputs": [
    {
     "name": "stdout",
     "output_type": "stream",
     "text": [
      "Found 8144 images belonging to 196 classes.\n"
     ]
    }
   ],
   "source": [
    "train_generator = train_datagen.flow_from_directory(\n",
    "        train_dir,\n",
    "        target_size=(width, height),\n",
    "        batch_size=batch_size,\n",
    "        class_mode='categorical')"
   ]
  },
  {
   "cell_type": "code",
   "execution_count": 6,
   "metadata": {},
   "outputs": [],
   "source": [
    "model = models.Sequential([\n",
    "    layers.Conv2D(32, (3, 3), activation='relu', input_shape=(width, height, 3)),\n",
    "    layers.MaxPooling2D((2, 2)),\n",
    "    layers.Conv2D(64, (3, 3), activation='relu'),\n",
    "    layers.MaxPooling2D((2, 2)),\n",
    "    layers.Conv2D(128, (3, 3), activation='relu'),\n",
    "    layers.MaxPooling2D((2, 2)),\n",
    "    layers.Flatten(),\n",
    "    layers.Dense(256, activation='relu'),\n",
    "    layers.Dense(196, activation='softmax')\n",
    "])"
   ]
  },
  {
   "cell_type": "code",
   "execution_count": 7,
   "metadata": {},
   "outputs": [],
   "source": [
    "model.compile(optimizer='adam',\n",
    "              loss='categorical_crossentropy',\n",
    "              metrics=['accuracy'])"
   ]
  },
  {
   "cell_type": "code",
   "execution_count": 8,
   "metadata": {},
   "outputs": [
    {
     "name": "stdout",
     "output_type": "stream",
     "text": [
      "Epoch 1/48\n",
      "254/254 [==============================] - 21s 79ms/step - loss: 5.2232 - accuracy: 0.0087\n",
      "Epoch 2/48\n",
      "254/254 [==============================] - 16s 63ms/step - loss: 5.1166 - accuracy: 0.0189\n",
      "Epoch 3/48\n",
      "254/254 [==============================] - 29s 114ms/step - loss: 5.0264 - accuracy: 0.0286\n",
      "Epoch 4/48\n",
      "254/254 [==============================] - 33s 129ms/step - loss: 4.8968 - accuracy: 0.0325\n",
      "Epoch 5/48\n",
      "254/254 [==============================] - 34s 135ms/step - loss: 4.7294 - accuracy: 0.0484\n",
      "Epoch 6/48\n",
      "254/254 [==============================] - 24s 93ms/step - loss: 4.4786 - accuracy: 0.0717\n",
      "Epoch 7/48\n",
      "254/254 [==============================] - 16s 61ms/step - loss: 4.1942 - accuracy: 0.0986\n",
      "Epoch 8/48\n",
      "254/254 [==============================] - 16s 63ms/step - loss: 3.8785 - accuracy: 0.1352\n",
      "Epoch 9/48\n",
      "254/254 [==============================] - 16s 61ms/step - loss: 3.5529 - accuracy: 0.1827\n",
      "Epoch 10/48\n",
      "254/254 [==============================] - 15s 60ms/step - loss: 3.2111 - accuracy: 0.2371\n",
      "Epoch 11/48\n",
      "254/254 [==============================] - 16s 61ms/step - loss: 2.8643 - accuracy: 0.3000\n",
      "Epoch 12/48\n",
      "254/254 [==============================] - 16s 64ms/step - loss: 2.4993 - accuracy: 0.3705\n",
      "Epoch 13/48\n",
      "254/254 [==============================] - 16s 63ms/step - loss: 2.1493 - accuracy: 0.4435\n",
      "Epoch 14/48\n",
      "254/254 [==============================] - 16s 62ms/step - loss: 1.8008 - accuracy: 0.5279\n",
      "Epoch 15/48\n",
      "254/254 [==============================] - 16s 62ms/step - loss: 1.4608 - accuracy: 0.6035\n",
      "Epoch 16/48\n",
      "254/254 [==============================] - 16s 63ms/step - loss: 1.1627 - accuracy: 0.6795\n",
      "Epoch 17/48\n",
      "254/254 [==============================] - 16s 63ms/step - loss: 0.8980 - accuracy: 0.7478\n",
      "Epoch 18/48\n",
      "254/254 [==============================] - 16s 63ms/step - loss: 0.6718 - accuracy: 0.8175\n",
      "Epoch 19/48\n",
      "254/254 [==============================] - 16s 63ms/step - loss: 0.5199 - accuracy: 0.8583\n",
      "Epoch 20/48\n",
      "254/254 [==============================] - 16s 62ms/step - loss: 0.3628 - accuracy: 0.9048\n",
      "Epoch 21/48\n",
      "254/254 [==============================] - 16s 63ms/step - loss: 0.2594 - accuracy: 0.9364\n",
      "Epoch 22/48\n",
      "254/254 [==============================] - 16s 61ms/step - loss: 0.2055 - accuracy: 0.9498\n",
      "Epoch 23/48\n",
      "254/254 [==============================] - 16s 63ms/step - loss: 0.1788 - accuracy: 0.9554\n",
      "Epoch 24/48\n",
      "254/254 [==============================] - 20s 80ms/step - loss: 0.1742 - accuracy: 0.9563\n",
      "Epoch 25/48\n",
      "254/254 [==============================] - 27s 105ms/step - loss: 0.2595 - accuracy: 0.9219\n",
      "Epoch 26/48\n",
      "254/254 [==============================] - 16s 63ms/step - loss: 0.1910 - accuracy: 0.9472\n",
      "Epoch 27/48\n",
      "254/254 [==============================] - 16s 62ms/step - loss: 0.1453 - accuracy: 0.9596\n",
      "Epoch 28/48\n",
      "254/254 [==============================] - 16s 64ms/step - loss: 0.1038 - accuracy: 0.9741\n",
      "Epoch 29/48\n",
      "254/254 [==============================] - 16s 63ms/step - loss: 0.1156 - accuracy: 0.9682\n",
      "Epoch 30/48\n",
      "254/254 [==============================] - 17s 65ms/step - loss: 0.1381 - accuracy: 0.9621\n",
      "Epoch 31/48\n",
      "254/254 [==============================] - 17s 68ms/step - loss: 0.0968 - accuracy: 0.9750\n",
      "Epoch 32/48\n",
      "254/254 [==============================] - 18s 69ms/step - loss: 0.1279 - accuracy: 0.9633\n",
      "Epoch 33/48\n",
      "254/254 [==============================] - 17s 67ms/step - loss: 0.1761 - accuracy: 0.9458\n",
      "Epoch 34/48\n",
      "254/254 [==============================] - 16s 64ms/step - loss: 0.1864 - accuracy: 0.9451\n",
      "Epoch 35/48\n",
      "254/254 [==============================] - 18s 70ms/step - loss: 0.1166 - accuracy: 0.9668\n",
      "Epoch 36/48\n",
      "254/254 [==============================] - 18s 71ms/step - loss: 0.0619 - accuracy: 0.9870\n",
      "Epoch 37/48\n",
      "254/254 [==============================] - 17s 68ms/step - loss: 0.1188 - accuracy: 0.9675\n",
      "Epoch 38/48\n",
      "254/254 [==============================] - 17s 68ms/step - loss: 0.1348 - accuracy: 0.9612\n",
      "Epoch 39/48\n",
      "254/254 [==============================] - 18s 70ms/step - loss: 0.0990 - accuracy: 0.9727\n",
      "Epoch 40/48\n",
      "254/254 [==============================] - 18s 70ms/step - loss: 0.0697 - accuracy: 0.9807\n",
      "Epoch 41/48\n",
      "254/254 [==============================] - 18s 69ms/step - loss: 0.1377 - accuracy: 0.9579\n",
      "Epoch 42/48\n",
      "254/254 [==============================] - 17s 68ms/step - loss: 0.2317 - accuracy: 0.9309\n",
      "Epoch 43/48\n",
      "254/254 [==============================] - 18s 70ms/step - loss: 0.1291 - accuracy: 0.9612\n",
      "Epoch 44/48\n",
      "254/254 [==============================] - 17s 68ms/step - loss: 0.0748 - accuracy: 0.9788\n",
      "Epoch 45/48\n",
      "254/254 [==============================] - 17s 68ms/step - loss: 0.0489 - accuracy: 0.9883\n",
      "Epoch 46/48\n",
      "254/254 [==============================] - 17s 68ms/step - loss: 0.0441 - accuracy: 0.9880\n",
      "Epoch 47/48\n",
      "254/254 [==============================] - 18s 70ms/step - loss: 0.0961 - accuracy: 0.9745\n",
      "Epoch 48/48\n",
      "254/254 [==============================] - 17s 68ms/step - loss: 0.1594 - accuracy: 0.9500\n"
     ]
    }
   ],
   "source": [
    "\n",
    "history = model.fit(\n",
    "      train_generator,\n",
    "      steps_per_epoch=train_generator.samples/train_generator.batch_size,\n",
    "      epochs=epochs)"
   ]
  },
  {
   "cell_type": "code",
   "execution_count": 9,
   "metadata": {},
   "outputs": [],
   "source": [
    "model.save('trained_model-1.keras')"
   ]
  }
 ],
 "metadata": {
  "kernelspec": {
   "display_name": "Python 3",
   "language": "python",
   "name": "python3"
  },
  "language_info": {
   "codemirror_mode": {
    "name": "ipython",
    "version": 3
   },
   "file_extension": ".py",
   "mimetype": "text/x-python",
   "name": "python",
   "nbconvert_exporter": "python",
   "pygments_lexer": "ipython3",
   "version": "3.11.5"
  }
 },
 "nbformat": 4,
 "nbformat_minor": 2
}
